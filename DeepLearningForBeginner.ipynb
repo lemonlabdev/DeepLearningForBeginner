{
  "nbformat": 4,
  "nbformat_minor": 0,
  "metadata": {
    "colab": {
      "name": "DeepLearningForBeginner.ipynb",
      "provenance": [],
      "private_outputs": true,
      "collapsed_sections": [],
      "toc_visible": true,
      "authorship_tag": "ABX9TyM9gwkG0MW7Bm/LzXoJJ3Gi",
      "include_colab_link": true
    },
    "kernelspec": {
      "name": "python3",
      "display_name": "Python 3"
    }
  },
  "cells": [
    {
      "cell_type": "markdown",
      "metadata": {
        "id": "view-in-github",
        "colab_type": "text"
      },
      "source": [
        "<a href=\"https://colab.research.google.com/github/lemonlabdev/DeepLearningForBeginner/blob/master/DeepLearningForBeginner.ipynb\" target=\"_parent\"><img src=\"https://colab.research.google.com/assets/colab-badge.svg\" alt=\"Open In Colab\"/></a>"
      ]
    },
    {
      "cell_type": "markdown",
      "metadata": {
        "id": "xhywXACSd70t",
        "colab_type": "text"
      },
      "source": [
        "# 1. Introduction & colab 사용법"
      ]
    },
    {
      "cell_type": "code",
      "metadata": {
        "id": "TDlKBwX1elB6",
        "colab_type": "code",
        "colab": {}
      },
      "source": [
        "import platform\n",
        "platform.platform()"
      ],
      "execution_count": null,
      "outputs": []
    },
    {
      "cell_type": "markdown",
      "metadata": {
        "id": "h2UCC4TBe9zG",
        "colab_type": "text"
      },
      "source": [
        "## 1.1 이 프로젝트란?"
      ]
    },
    {
      "cell_type": "markdown",
      "metadata": {
        "id": "twMHTBLEeAdJ",
        "colab_type": "text"
      },
      "source": [
        "## 1.2. Colab 스펙 확인하기"
      ]
    },
    {
      "cell_type": "markdown",
      "metadata": {
        "id": "Oh-8EdoFeh7Y",
        "colab_type": "text"
      },
      "source": [
        "### OS 확인하기\n",
        "\n",
        "\n",
        "```\n",
        "밑 코드를 실행시켜 보세요!\n",
        "```\n",
        "\n"
      ]
    },
    {
      "cell_type": "markdown",
      "metadata": {
        "id": "hWw7M1u1e0kR",
        "colab_type": "text"
      },
      "source": [
        "### 메모리"
      ]
    }
  ]
}